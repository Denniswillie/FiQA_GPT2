{
  "cells": [
    {
      "cell_type": "code",
      "execution_count": 1,
      "metadata": {
        "colab": {
          "base_uri": "https://localhost:8080/"
        },
        "id": "ioDXiKHAyega",
        "outputId": "f7c15ff8-1a3f-4b54-b61d-d3af9d669958"
      },
      "outputs": [
        {
          "output_type": "stream",
          "name": "stdout",
          "text": [
            "Looking in indexes: https://pypi.org/simple, https://us-python.pkg.dev/colab-wheels/public/simple/\n",
            "Requirement already satisfied: transformers in /usr/local/lib/python3.8/dist-packages (4.26.0)\n",
            "Requirement already satisfied: regex!=2019.12.17 in /usr/local/lib/python3.8/dist-packages (from transformers) (2022.6.2)\n",
            "Requirement already satisfied: packaging>=20.0 in /usr/local/lib/python3.8/dist-packages (from transformers) (21.3)\n",
            "Requirement already satisfied: tqdm>=4.27 in /usr/local/lib/python3.8/dist-packages (from transformers) (4.64.1)\n",
            "Requirement already satisfied: tokenizers!=0.11.3,<0.14,>=0.11.1 in /usr/local/lib/python3.8/dist-packages (from transformers) (0.13.2)\n",
            "Requirement already satisfied: numpy>=1.17 in /usr/local/lib/python3.8/dist-packages (from transformers) (1.21.6)\n",
            "Requirement already satisfied: pyyaml>=5.1 in /usr/local/lib/python3.8/dist-packages (from transformers) (6.0)\n",
            "Requirement already satisfied: huggingface-hub<1.0,>=0.11.0 in /usr/local/lib/python3.8/dist-packages (from transformers) (0.12.0)\n",
            "Requirement already satisfied: requests in /usr/local/lib/python3.8/dist-packages (from transformers) (2.25.1)\n",
            "Requirement already satisfied: filelock in /usr/local/lib/python3.8/dist-packages (from transformers) (3.9.0)\n",
            "Requirement already satisfied: typing-extensions>=3.7.4.3 in /usr/local/lib/python3.8/dist-packages (from huggingface-hub<1.0,>=0.11.0->transformers) (4.4.0)\n",
            "Requirement already satisfied: pyparsing!=3.0.5,>=2.0.2 in /usr/local/lib/python3.8/dist-packages (from packaging>=20.0->transformers) (3.0.9)\n",
            "Requirement already satisfied: idna<3,>=2.5 in /usr/local/lib/python3.8/dist-packages (from requests->transformers) (2.10)\n",
            "Requirement already satisfied: chardet<5,>=3.0.2 in /usr/local/lib/python3.8/dist-packages (from requests->transformers) (4.0.0)\n",
            "Requirement already satisfied: urllib3<1.27,>=1.21.1 in /usr/local/lib/python3.8/dist-packages (from requests->transformers) (1.26.14)\n",
            "Requirement already satisfied: certifi>=2017.4.17 in /usr/local/lib/python3.8/dist-packages (from requests->transformers) (2022.12.7)\n"
          ]
        }
      ],
      "source": [
        "!pip install transformers\n",
        "\n",
        "from transformers import GPT2Tokenizer, GPT2LMHeadModel, AutoConfig"
      ]
    },
    {
      "cell_type": "code",
      "execution_count": 2,
      "metadata": {
        "colab": {
          "base_uri": "https://localhost:8080/"
        },
        "id": "WFtfRGdHmpwn",
        "outputId": "3cb3e0da-4110-4f42-c8cd-f31d0ec077b3"
      },
      "outputs": [
        {
          "output_type": "stream",
          "name": "stdout",
          "text": [
            "True\n",
            "GPT-2 size: 124.4M parameters\n"
          ]
        }
      ],
      "source": [
        "# Load the tokenizer and model\n",
        "context_length = 1024\n",
        "\n",
        "import torch\n",
        "print(torch.cuda.is_available())\n",
        "torch.cuda.empty_cache()\n",
        "tokenizer = GPT2Tokenizer.from_pretrained('gpt2', max_length=context_length)\n",
        "\n",
        "# Add question and answer tokens.\n",
        "q_token, a_token, pad_token = '<|question|>', '<|answer|>', '<|pad|>'\n",
        "tokenizer.add_tokens([q_token, a_token])\n",
        "tokenizer.add_special_tokens({'pad_token': pad_token})\n",
        "\n",
        "config = AutoConfig.from_pretrained(\n",
        "    \"gpt2\",\n",
        "    vocab_size=len(tokenizer),\n",
        "    n_ctx=context_length,\n",
        "    bos_token_id=tokenizer.bos_token_id,\n",
        "    eos_token_id=tokenizer.eos_token_id,\n",
        "    pad_token_id=tokenizer.pad_token_id\n",
        ")\n",
        "model = GPT2LMHeadModel(config)\n",
        "model_size = sum(t.numel() for t in model.parameters())\n",
        "print(f\"GPT-2 size: {model_size/1000**2:.1f}M parameters\")"
      ]
    },
    {
      "cell_type": "code",
      "execution_count": 3,
      "metadata": {
        "colab": {
          "base_uri": "https://localhost:8080/",
          "height": 238
        },
        "id": "o7dlQnRMmtdR",
        "outputId": "233597f1-fcb7-43e2-f781-e72a403ad9c2"
      },
      "outputs": [
        {
          "output_type": "execute_result",
          "data": {
            "text/plain": [
              "                                            question  \\\n",
              "0  What is considered a business expense on a bus...   \n",
              "1  Claiming business expenses for a business with...   \n",
              "2  Transferring money from One business checking ...   \n",
              "3  Having a separate bank account for business/in...   \n",
              "4  Having a separate bank account for business/in...   \n",
              "5  Having a separate bank account for business/in...   \n",
              "\n",
              "                                                 doc  \n",
              "0  The IRS Guidance pertaining to the subject.  I...  \n",
              "1  Yes you can claim your business deductions if ...  \n",
              "2  You should have separate files for each of the...  \n",
              "3  Having a separate checking account for the bus...  \n",
              "4  You don't specify which country you are in, so...  \n",
              "5  If it makes your finances easier, why not? My ...  "
            ],
            "text/html": [
              "\n",
              "  <div id=\"df-6089a9d4-4d34-4383-b338-acb250213944\">\n",
              "    <div class=\"colab-df-container\">\n",
              "      <div>\n",
              "<style scoped>\n",
              "    .dataframe tbody tr th:only-of-type {\n",
              "        vertical-align: middle;\n",
              "    }\n",
              "\n",
              "    .dataframe tbody tr th {\n",
              "        vertical-align: top;\n",
              "    }\n",
              "\n",
              "    .dataframe thead th {\n",
              "        text-align: right;\n",
              "    }\n",
              "</style>\n",
              "<table border=\"1\" class=\"dataframe\">\n",
              "  <thead>\n",
              "    <tr style=\"text-align: right;\">\n",
              "      <th></th>\n",
              "      <th>question</th>\n",
              "      <th>doc</th>\n",
              "    </tr>\n",
              "  </thead>\n",
              "  <tbody>\n",
              "    <tr>\n",
              "      <th>0</th>\n",
              "      <td>What is considered a business expense on a bus...</td>\n",
              "      <td>The IRS Guidance pertaining to the subject.  I...</td>\n",
              "    </tr>\n",
              "    <tr>\n",
              "      <th>1</th>\n",
              "      <td>Claiming business expenses for a business with...</td>\n",
              "      <td>Yes you can claim your business deductions if ...</td>\n",
              "    </tr>\n",
              "    <tr>\n",
              "      <th>2</th>\n",
              "      <td>Transferring money from One business checking ...</td>\n",
              "      <td>You should have separate files for each of the...</td>\n",
              "    </tr>\n",
              "    <tr>\n",
              "      <th>3</th>\n",
              "      <td>Having a separate bank account for business/in...</td>\n",
              "      <td>Having a separate checking account for the bus...</td>\n",
              "    </tr>\n",
              "    <tr>\n",
              "      <th>4</th>\n",
              "      <td>Having a separate bank account for business/in...</td>\n",
              "      <td>You don't specify which country you are in, so...</td>\n",
              "    </tr>\n",
              "    <tr>\n",
              "      <th>5</th>\n",
              "      <td>Having a separate bank account for business/in...</td>\n",
              "      <td>If it makes your finances easier, why not? My ...</td>\n",
              "    </tr>\n",
              "  </tbody>\n",
              "</table>\n",
              "</div>\n",
              "      <button class=\"colab-df-convert\" onclick=\"convertToInteractive('df-6089a9d4-4d34-4383-b338-acb250213944')\"\n",
              "              title=\"Convert this dataframe to an interactive table.\"\n",
              "              style=\"display:none;\">\n",
              "        \n",
              "  <svg xmlns=\"http://www.w3.org/2000/svg\" height=\"24px\"viewBox=\"0 0 24 24\"\n",
              "       width=\"24px\">\n",
              "    <path d=\"M0 0h24v24H0V0z\" fill=\"none\"/>\n",
              "    <path d=\"M18.56 5.44l.94 2.06.94-2.06 2.06-.94-2.06-.94-.94-2.06-.94 2.06-2.06.94zm-11 1L8.5 8.5l.94-2.06 2.06-.94-2.06-.94L8.5 2.5l-.94 2.06-2.06.94zm10 10l.94 2.06.94-2.06 2.06-.94-2.06-.94-.94-2.06-.94 2.06-2.06.94z\"/><path d=\"M17.41 7.96l-1.37-1.37c-.4-.4-.92-.59-1.43-.59-.52 0-1.04.2-1.43.59L10.3 9.45l-7.72 7.72c-.78.78-.78 2.05 0 2.83L4 21.41c.39.39.9.59 1.41.59.51 0 1.02-.2 1.41-.59l7.78-7.78 2.81-2.81c.8-.78.8-2.07 0-2.86zM5.41 20L4 18.59l7.72-7.72 1.47 1.35L5.41 20z\"/>\n",
              "  </svg>\n",
              "      </button>\n",
              "      \n",
              "  <style>\n",
              "    .colab-df-container {\n",
              "      display:flex;\n",
              "      flex-wrap:wrap;\n",
              "      gap: 12px;\n",
              "    }\n",
              "\n",
              "    .colab-df-convert {\n",
              "      background-color: #E8F0FE;\n",
              "      border: none;\n",
              "      border-radius: 50%;\n",
              "      cursor: pointer;\n",
              "      display: none;\n",
              "      fill: #1967D2;\n",
              "      height: 32px;\n",
              "      padding: 0 0 0 0;\n",
              "      width: 32px;\n",
              "    }\n",
              "\n",
              "    .colab-df-convert:hover {\n",
              "      background-color: #E2EBFA;\n",
              "      box-shadow: 0px 1px 2px rgba(60, 64, 67, 0.3), 0px 1px 3px 1px rgba(60, 64, 67, 0.15);\n",
              "      fill: #174EA6;\n",
              "    }\n",
              "\n",
              "    [theme=dark] .colab-df-convert {\n",
              "      background-color: #3B4455;\n",
              "      fill: #D2E3FC;\n",
              "    }\n",
              "\n",
              "    [theme=dark] .colab-df-convert:hover {\n",
              "      background-color: #434B5C;\n",
              "      box-shadow: 0px 1px 3px 1px rgba(0, 0, 0, 0.15);\n",
              "      filter: drop-shadow(0px 1px 2px rgba(0, 0, 0, 0.3));\n",
              "      fill: #FFFFFF;\n",
              "    }\n",
              "  </style>\n",
              "\n",
              "      <script>\n",
              "        const buttonEl =\n",
              "          document.querySelector('#df-6089a9d4-4d34-4383-b338-acb250213944 button.colab-df-convert');\n",
              "        buttonEl.style.display =\n",
              "          google.colab.kernel.accessAllowed ? 'block' : 'none';\n",
              "\n",
              "        async function convertToInteractive(key) {\n",
              "          const element = document.querySelector('#df-6089a9d4-4d34-4383-b338-acb250213944');\n",
              "          const dataTable =\n",
              "            await google.colab.kernel.invokeFunction('convertToInteractive',\n",
              "                                                     [key], {});\n",
              "          if (!dataTable) return;\n",
              "\n",
              "          const docLinkHtml = 'Like what you see? Visit the ' +\n",
              "            '<a target=\"_blank\" href=https://colab.research.google.com/notebooks/data_table.ipynb>data table notebook</a>'\n",
              "            + ' to learn more about interactive tables.';\n",
              "          element.innerHTML = '';\n",
              "          dataTable['output_type'] = 'display_data';\n",
              "          await google.colab.output.renderOutput(dataTable, element);\n",
              "          const docLink = document.createElement('div');\n",
              "          docLink.innerHTML = docLinkHtml;\n",
              "          element.appendChild(docLink);\n",
              "        }\n",
              "      </script>\n",
              "    </div>\n",
              "  </div>\n",
              "  "
            ]
          },
          "metadata": {},
          "execution_count": 3
        }
      ],
      "source": [
        "# Prepare the dataset.\n",
        "import pandas as pd\n",
        "# Load the FIQA dataset.\n",
        "DATASET_DIRNAME = \"./drive/MyDrive/FiQA_train_task2/\"\n",
        "QUESTIONS_FILENAME = \"FiQA_train_question_final.tsv\"\n",
        "ANSWERS_FILENAME = \"FiQA_train_doc_final.tsv\"\n",
        "QNA_PAIRS_FILENAME = \"FiQA_train_question_doc_final.tsv\"\n",
        "\n",
        "q_df = pd.read_csv(DATASET_DIRNAME + QUESTIONS_FILENAME, delimiter='\\t')\n",
        "a_df = pd.read_csv(DATASET_DIRNAME + ANSWERS_FILENAME, delimiter='\\t')\n",
        "qna_df = pd.read_csv(DATASET_DIRNAME + QNA_PAIRS_FILENAME, delimiter='\\t')\n",
        "\n",
        "# Merge dataframes based on the qna pairs\n",
        "merged_df1 = qna_df.merge(q_df, left_on='qid', right_on='qid')\n",
        "df = merged_df1.merge(a_df, left_on='docid', right_on='docid')\n",
        "df.drop(['Unnamed: 0', 'Unnamed: 0_x','Unnamed: 0_y', 'qid', 'docid', 'timestamp_x', 'timestamp_y'], axis=1, inplace=True)\n",
        "df.head(6)"
      ]
    },
    {
      "cell_type": "code",
      "execution_count": 4,
      "metadata": {
        "colab": {
          "base_uri": "https://localhost:8080/"
        },
        "id": "oPmabwzIRPb7",
        "outputId": "7ea876fc-fae3-47fe-ebf7-89d403a4d6be"
      },
      "outputs": [
        {
          "output_type": "stream",
          "name": "stdout",
          "text": [
            "                                                question  doc\n",
            "215           I have $100,000 in play money… what to do?  NaN\n",
            "1855   Optimal way to use a credit card to build bett...  NaN\n",
            "2307   Why do some online stores not ask for the 3-di...  NaN\n",
            "3347   Why do US retirement funds typically have way ...  NaN\n",
            "3391   Is there any way to buy a new car directly fro...  NaN\n",
            "3758                         Emptying a Roth IRA account  NaN\n",
            "3765   How to evaluate stocks? e.g. Whether some stoc...  NaN\n",
            "3822   What are the reasons to get more than one cred...  NaN\n",
            "3829   What are the reasons to get more than one cred...  NaN\n",
            "4007        How to share income after marriage and kids?  NaN\n",
            "4077   Opening American credit cards while residing i...  NaN\n",
            "4152      What should I be aware of as a young investor?  NaN\n",
            "4414   Is there any instrument with real-estate-like ...  NaN\n",
            "5158           Why are credit cards preferred in the US?  NaN\n",
            "5168   Confused about employee stock options: How do ...  NaN\n",
            "5416                          In debts now, help please   NaN\n",
            "5525                  Buying my first car out of college  NaN\n",
            "5848   Why are estimated taxes due “early” for the 2n...  NaN\n",
            "6085   What do Earnings Per Share tell potential shar...  NaN\n",
            "6641   Why is property investment good if properties ...  NaN\n",
            "6673   Insurance company sent me huge check instead o...  NaN\n",
            "7393               Why is economic growth so important?   NaN\n",
            "7645   The U.S. National Debt: What is it, where did ...  NaN\n",
            "8091    Stocks vs. High-yield Bonds: Risk-Reward, Taxes?  NaN\n",
            "8696      How Should I Start my Finance Life and Invest?  NaN\n",
            "8820   Good habits pertaining to personal finance for...  NaN\n",
            "9409   I thought student loans didn't have interest, ...  NaN\n",
            "9534   Is it a good idea to get an unsecured loan to ...  NaN\n",
            "9708   How to start investing/thinking about money as...  NaN\n",
            "9756              What is the best use of “spare” money?  NaN\n",
            "10290       I'm 23 and was given $50k. What should I do?  NaN\n",
            "11269    How do brokers make money from margin accounts?  NaN\n",
            "13115                        Index funds with dividends?  NaN\n",
            "13755  What's best investment option? Mutual fund or ...  NaN\n",
            "14452  Are there any caveats to withdrawing funds fro...  NaN\n",
            "15593   What is the process of getting your first share?  NaN\n",
            "15716  How can I find out who the major short sellers...  NaN\n",
            "16590    How can I diversify $7k across ETFs and stocks?  NaN\n",
            "Number of dropped rows:  38\n"
          ]
        }
      ],
      "source": [
        "nan_rows = df[df.isnull().any(axis=1)]\n",
        "print(nan_rows)\n",
        "\n",
        "before_drop = df.shape[0]\n",
        "\n",
        "dropped_rows = df[df.isnull().any(axis=1)]\n",
        "\n",
        "df = df.dropna(how='any')\n",
        "\n",
        "after_drop = df.shape[0]\n",
        "\n",
        "print(\"Number of dropped rows: \", before_drop-after_drop)"
      ]
    },
    {
      "cell_type": "code",
      "execution_count": 5,
      "metadata": {
        "colab": {
          "base_uri": "https://localhost:8080/"
        },
        "id": "f8s--xAPguSF",
        "outputId": "62f2c766-a7e5-4cff-fe1b-1bc303f2a08c"
      },
      "outputs": [
        {
          "output_type": "stream",
          "name": "stdout",
          "text": [
            "Looking in indexes: https://pypi.org/simple, https://us-python.pkg.dev/colab-wheels/public/simple/\n",
            "Requirement already satisfied: datasets in /usr/local/lib/python3.8/dist-packages (2.8.0)\n",
            "Requirement already satisfied: fsspec[http]>=2021.11.1 in /usr/local/lib/python3.8/dist-packages (from datasets) (2022.11.0)\n",
            "Requirement already satisfied: tqdm>=4.62.1 in /usr/local/lib/python3.8/dist-packages (from datasets) (4.64.1)\n",
            "Requirement already satisfied: responses<0.19 in /usr/local/lib/python3.8/dist-packages (from datasets) (0.18.0)\n",
            "Requirement already satisfied: dill<0.3.7 in /usr/local/lib/python3.8/dist-packages (from datasets) (0.3.6)\n",
            "Requirement already satisfied: pyyaml>=5.1 in /usr/local/lib/python3.8/dist-packages (from datasets) (6.0)\n",
            "Requirement already satisfied: multiprocess in /usr/local/lib/python3.8/dist-packages (from datasets) (0.70.14)\n",
            "Requirement already satisfied: huggingface-hub<1.0.0,>=0.2.0 in /usr/local/lib/python3.8/dist-packages (from datasets) (0.12.0)\n",
            "Requirement already satisfied: aiohttp in /usr/local/lib/python3.8/dist-packages (from datasets) (3.8.3)\n",
            "Requirement already satisfied: numpy>=1.17 in /usr/local/lib/python3.8/dist-packages (from datasets) (1.21.6)\n",
            "Requirement already satisfied: pyarrow>=6.0.0 in /usr/local/lib/python3.8/dist-packages (from datasets) (9.0.0)\n",
            "Requirement already satisfied: requests>=2.19.0 in /usr/local/lib/python3.8/dist-packages (from datasets) (2.25.1)\n",
            "Requirement already satisfied: pandas in /usr/local/lib/python3.8/dist-packages (from datasets) (1.3.5)\n",
            "Requirement already satisfied: packaging in /usr/local/lib/python3.8/dist-packages (from datasets) (21.3)\n",
            "Requirement already satisfied: xxhash in /usr/local/lib/python3.8/dist-packages (from datasets) (3.2.0)\n",
            "Requirement already satisfied: charset-normalizer<3.0,>=2.0 in /usr/local/lib/python3.8/dist-packages (from aiohttp->datasets) (2.1.1)\n",
            "Requirement already satisfied: yarl<2.0,>=1.0 in /usr/local/lib/python3.8/dist-packages (from aiohttp->datasets) (1.8.2)\n",
            "Requirement already satisfied: async-timeout<5.0,>=4.0.0a3 in /usr/local/lib/python3.8/dist-packages (from aiohttp->datasets) (4.0.2)\n",
            "Requirement already satisfied: multidict<7.0,>=4.5 in /usr/local/lib/python3.8/dist-packages (from aiohttp->datasets) (6.0.4)\n",
            "Requirement already satisfied: frozenlist>=1.1.1 in /usr/local/lib/python3.8/dist-packages (from aiohttp->datasets) (1.3.3)\n",
            "Requirement already satisfied: aiosignal>=1.1.2 in /usr/local/lib/python3.8/dist-packages (from aiohttp->datasets) (1.3.1)\n",
            "Requirement already satisfied: attrs>=17.3.0 in /usr/local/lib/python3.8/dist-packages (from aiohttp->datasets) (22.2.0)\n",
            "Requirement already satisfied: filelock in /usr/local/lib/python3.8/dist-packages (from huggingface-hub<1.0.0,>=0.2.0->datasets) (3.9.0)\n",
            "Requirement already satisfied: typing-extensions>=3.7.4.3 in /usr/local/lib/python3.8/dist-packages (from huggingface-hub<1.0.0,>=0.2.0->datasets) (4.4.0)\n",
            "Requirement already satisfied: pyparsing!=3.0.5,>=2.0.2 in /usr/local/lib/python3.8/dist-packages (from packaging->datasets) (3.0.9)\n",
            "Requirement already satisfied: certifi>=2017.4.17 in /usr/local/lib/python3.8/dist-packages (from requests>=2.19.0->datasets) (2022.12.7)\n",
            "Requirement already satisfied: urllib3<1.27,>=1.21.1 in /usr/local/lib/python3.8/dist-packages (from requests>=2.19.0->datasets) (1.26.14)\n",
            "Requirement already satisfied: idna<3,>=2.5 in /usr/local/lib/python3.8/dist-packages (from requests>=2.19.0->datasets) (2.10)\n",
            "Requirement already satisfied: chardet<5,>=3.0.2 in /usr/local/lib/python3.8/dist-packages (from requests>=2.19.0->datasets) (4.0.0)\n",
            "Requirement already satisfied: pytz>=2017.3 in /usr/local/lib/python3.8/dist-packages (from pandas->datasets) (2022.7)\n",
            "Requirement already satisfied: python-dateutil>=2.7.3 in /usr/local/lib/python3.8/dist-packages (from pandas->datasets) (2.8.2)\n",
            "Requirement already satisfied: six>=1.5 in /usr/local/lib/python3.8/dist-packages (from python-dateutil>=2.7.3->pandas->datasets) (1.15.0)\n"
          ]
        }
      ],
      "source": [
        "!pip install datasets\n",
        "from datasets import Dataset"
      ]
    },
    {
      "cell_type": "code",
      "execution_count": 6,
      "metadata": {
        "id": "80f3TUZofQRD",
        "colab": {
          "base_uri": "https://localhost:8080/"
        },
        "outputId": "64e1b8a2-81d6-4fcb-d12c-29b1be2a15fb"
      },
      "outputs": [
        {
          "output_type": "stream",
          "name": "stderr",
          "text": [
            "Token indices sequence length is longer than the specified maximum sequence length for this model (1071 > 1024). Running this sequence through the model will result in indexing errors\n"
          ]
        }
      ],
      "source": [
        "# remove inputs that are longer than 1024 when encoded\n",
        "remove_indices = []\n",
        "\n",
        "for i, row in df.iterrows():\n",
        "  s = \"{} {} {} {}\".format(q_token, df.loc[i, 'question'], a_token, df.loc[i, 'doc'])\n",
        "  df.loc[i, 'content'] = s\n",
        "  tokenized_s = tokenizer.encode(s, add_special_tokens=False, return_tensors='pt')\n",
        "  l = len(tokenized_s[0])\n",
        "  if l > 1024:\n",
        "    remove_indices.append(i)\n",
        "\n",
        "df.drop(remove_indices, inplace=True)"
      ]
    },
    {
      "cell_type": "code",
      "execution_count": 7,
      "metadata": {
        "id": "WLZjQJhzoucL"
      },
      "outputs": [],
      "source": [
        "raw_datasets = Dataset.from_pandas(df)\n",
        "train_ds, valid_ds = raw_datasets.train_test_split(.2).values()"
      ]
    },
    {
      "cell_type": "code",
      "execution_count": 8,
      "metadata": {
        "id": "cRNkupBQhog6"
      },
      "outputs": [],
      "source": [
        "from datasets import DatasetDict\n",
        "raw_datasets = DatasetDict(\n",
        "    {\n",
        "        \"train\": train_ds,\n",
        "        \"valid\": valid_ds,\n",
        "    }\n",
        ")"
      ]
    },
    {
      "cell_type": "code",
      "execution_count": 9,
      "metadata": {
        "colab": {
          "base_uri": "https://localhost:8080/",
          "height": 255,
          "referenced_widgets": [
            "c30d200de1d34624971aa55045520dd7",
            "dde91495d4764b858ca1f4a416d96592",
            "17c99666e4bd450981f9d85155387a8d",
            "8ca7a70c38c54821b3cccefe5ccbaf96",
            "458e37211dae453cbee4b2ec5db15615",
            "718f486fd4764766be9d8a67ee8f076d",
            "d06fccc72e2a4e5ca01f218beeeab2da",
            "87848fa1fc334c8cb09a50809c93524a",
            "a8a1342ce83344509ec752875e0ce320",
            "e9c10ce1fa454aca86f2ef86e473098b",
            "0cdf0d31f42a4477b0a87061d45dc874",
            "d0aeda88f7a441caa3cdc96d76ba7304",
            "de5a4c45e59b424c8f4cfa1c28cd579f",
            "f4b339b4559e41a2bd8fe21cf3091796",
            "b64f0f4f771c4a059ca9ce3705b3fdca",
            "c00207f9680747839601d38c199f1297",
            "200c8de1ab9940c7915a7a3973774444",
            "a4f96caa5cc546889bdd6e0a4673e78d",
            "cb8a2dad70864014bfa07564a963e40f",
            "ea84379366174a43936dfbccd69606c1",
            "4c73218854134cd888d5f509c4fc07ec",
            "c32c3015133a4417a1b2254e101190b3"
          ]
        },
        "id": "nKIkbRW9XTdE",
        "outputId": "3a687dc4-1957-4b0d-8c9e-fecf247ffbde"
      },
      "outputs": [
        {
          "output_type": "display_data",
          "data": {
            "text/plain": [
              "  0%|          | 0/14 [00:00<?, ?ba/s]"
            ],
            "application/vnd.jupyter.widget-view+json": {
              "version_major": 2,
              "version_minor": 0,
              "model_id": "c30d200de1d34624971aa55045520dd7"
            }
          },
          "metadata": {}
        },
        {
          "output_type": "display_data",
          "data": {
            "text/plain": [
              "  0%|          | 0/4 [00:00<?, ?ba/s]"
            ],
            "application/vnd.jupyter.widget-view+json": {
              "version_major": 2,
              "version_minor": 0,
              "model_id": "d0aeda88f7a441caa3cdc96d76ba7304"
            }
          },
          "metadata": {}
        },
        {
          "output_type": "execute_result",
          "data": {
            "text/plain": [
              "DatasetDict({\n",
              "    train: Dataset({\n",
              "        features: ['input_ids'],\n",
              "        num_rows: 13534\n",
              "    })\n",
              "    valid: Dataset({\n",
              "        features: ['input_ids'],\n",
              "        num_rows: 3384\n",
              "    })\n",
              "})"
            ]
          },
          "metadata": {},
          "execution_count": 9
        }
      ],
      "source": [
        "def tokenize(element):\n",
        "    outputs = tokenizer(element[\"content\"], add_special_tokens=False, max_length=context_length, truncation=True, padding='max_length')\n",
        "    input_batch = []\n",
        "    for input_ids in outputs[\"input_ids\"]:\n",
        "        input_batch.append(input_ids)\n",
        "    return {\"input_ids\": input_batch}\n",
        "\n",
        "tokenized_datasets = raw_datasets.map(\n",
        "    tokenize, batched=True, remove_columns=raw_datasets[\"train\"].column_names\n",
        ")\n",
        "tokenized_datasets"
      ]
    },
    {
      "cell_type": "code",
      "execution_count": 10,
      "metadata": {
        "id": "zRFLqM_Mxei9"
      },
      "outputs": [],
      "source": [
        "from transformers import DataCollatorForLanguageModeling\n",
        "\n",
        "tokenizer.pad_token = tokenizer.eos_token\n",
        "data_collator = DataCollatorForLanguageModeling(tokenizer, mlm=False)"
      ]
    },
    {
      "cell_type": "code",
      "execution_count": 11,
      "metadata": {
        "colab": {
          "base_uri": "https://localhost:8080/"
        },
        "id": "x7_RsN5LxvR5",
        "outputId": "e7ddc84c-a1d6-4c70-b890-b91f4b4c062e"
      },
      "outputs": [
        {
          "output_type": "stream",
          "name": "stdout",
          "text": [
            "input_ids shape: torch.Size([5, 1024])\n",
            "attention_mask shape: torch.Size([5, 1024])\n",
            "labels shape: torch.Size([5, 1024])\n"
          ]
        }
      ],
      "source": [
        "out = data_collator([tokenized_datasets[\"train\"][i] for i in range(5)])\n",
        "for key in out:\n",
        "    print(f\"{key} shape: {out[key].shape}\")"
      ]
    },
    {
      "cell_type": "code",
      "execution_count": 12,
      "metadata": {
        "colab": {
          "base_uri": "https://localhost:8080/"
        },
        "id": "AnBfvukbkIhV",
        "outputId": "2329285d-973f-4e6f-ecf9-40bb42d1687d"
      },
      "outputs": [
        {
          "output_type": "execute_result",
          "data": {
            "text/plain": [
              "Embedding(50260, 768)"
            ]
          },
          "metadata": {},
          "execution_count": 12
        }
      ],
      "source": [
        "model.resize_token_embeddings(len(tokenizer)) "
      ]
    },
    {
      "cell_type": "code",
      "execution_count": 13,
      "metadata": {
        "colab": {
          "base_uri": "https://localhost:8080/"
        },
        "id": "mAFxhrIKxzKK",
        "outputId": "f186c410-bf3f-493a-8665-a948292a79a3"
      },
      "outputs": [
        {
          "output_type": "stream",
          "name": "stderr",
          "text": [
            "Using cuda_amp half precision backend\n"
          ]
        }
      ],
      "source": [
        "from transformers import Trainer, TrainingArguments\n",
        "\n",
        "args = TrainingArguments(\n",
        "    output_dir=\"codeparrot-ds\",\n",
        "    per_device_train_batch_size=4,\n",
        "    per_device_eval_batch_size=4,\n",
        "    evaluation_strategy=\"steps\",\n",
        "    eval_steps=5_000,\n",
        "    logging_steps=5_000,\n",
        "    gradient_accumulation_steps=2,\n",
        "    num_train_epochs=10,\n",
        "    weight_decay=0.1,\n",
        "    warmup_steps=1_000,\n",
        "    lr_scheduler_type=\"cosine\",\n",
        "    learning_rate=5e-4,\n",
        "    save_steps=5_000,\n",
        "    fp16=True,\n",
        ")\n",
        "\n",
        "trainer = Trainer(\n",
        "    model=model,\n",
        "    tokenizer=tokenizer,\n",
        "    args=args,\n",
        "    data_collator=data_collator,\n",
        "    train_dataset=tokenized_datasets[\"train\"],\n",
        "    eval_dataset=tokenized_datasets[\"valid\"],\n",
        ")"
      ]
    },
    {
      "cell_type": "code",
      "execution_count": 14,
      "metadata": {
        "colab": {
          "base_uri": "https://localhost:8080/"
        },
        "id": "eBGZeDOvru2V",
        "outputId": "1851324f-821e-4d09-a068-eb2c7368cd11"
      },
      "outputs": [
        {
          "output_type": "execute_result",
          "data": {
            "text/plain": [
              "1024"
            ]
          },
          "metadata": {},
          "execution_count": 14
        }
      ],
      "source": [
        "len(tokenized_datasets['train'][1]['input_ids'])\n",
        "lens = []\n",
        "for i in tokenized_datasets['train']:\n",
        "  lens.append(len(i['input_ids']))\n",
        "\n",
        "max(lens)"
      ]
    },
    {
      "cell_type": "code",
      "execution_count": 15,
      "metadata": {
        "colab": {
          "base_uri": "https://localhost:8080/",
          "height": 1000
        },
        "id": "dXxrLf3T0p7l",
        "outputId": "83fbc71d-d5ae-4959-9ad8-7bbbb0592d96"
      },
      "outputs": [
        {
          "output_type": "stream",
          "name": "stderr",
          "text": [
            "/usr/local/lib/python3.8/dist-packages/transformers/optimization.py:306: FutureWarning: This implementation of AdamW is deprecated and will be removed in a future version. Use the PyTorch implementation torch.optim.AdamW instead, or set `no_deprecation_warning=True` to disable this warning\n",
            "  warnings.warn(\n",
            "***** Running training *****\n",
            "  Num examples = 13534\n",
            "  Num Epochs = 10\n",
            "  Instantaneous batch size per device = 4\n",
            "  Total train batch size (w. parallel, distributed & accumulation) = 8\n",
            "  Gradient Accumulation steps = 2\n",
            "  Total optimization steps = 16920\n",
            "  Number of trainable parameters = 124442112\n"
          ]
        },
        {
          "output_type": "display_data",
          "data": {
            "text/plain": [
              "<IPython.core.display.HTML object>"
            ],
            "text/html": [
              "\n",
              "    <div>\n",
              "      \n",
              "      <progress value='16920' max='16920' style='width:300px; height:20px; vertical-align: middle;'></progress>\n",
              "      [16920/16920 1:14:16, Epoch 10/10]\n",
              "    </div>\n",
              "    <table border=\"1\" class=\"dataframe\">\n",
              "  <thead>\n",
              " <tr style=\"text-align: left;\">\n",
              "      <th>Step</th>\n",
              "      <th>Training Loss</th>\n",
              "      <th>Validation Loss</th>\n",
              "    </tr>\n",
              "  </thead>\n",
              "  <tbody>\n",
              "    <tr>\n",
              "      <td>5000</td>\n",
              "      <td>1.161200</td>\n",
              "      <td>1.066290</td>\n",
              "    </tr>\n",
              "    <tr>\n",
              "      <td>10000</td>\n",
              "      <td>0.990800</td>\n",
              "      <td>1.021535</td>\n",
              "    </tr>\n",
              "    <tr>\n",
              "      <td>15000</td>\n",
              "      <td>0.894200</td>\n",
              "      <td>0.987130</td>\n",
              "    </tr>\n",
              "  </tbody>\n",
              "</table><p>"
            ]
          },
          "metadata": {}
        },
        {
          "output_type": "stream",
          "name": "stderr",
          "text": [
            "***** Running Evaluation *****\n",
            "  Num examples = 3384\n",
            "  Batch size = 4\n",
            "Saving model checkpoint to codeparrot-ds/checkpoint-5000\n",
            "Configuration saved in codeparrot-ds/checkpoint-5000/config.json\n",
            "Configuration saved in codeparrot-ds/checkpoint-5000/generation_config.json\n",
            "Model weights saved in codeparrot-ds/checkpoint-5000/pytorch_model.bin\n",
            "tokenizer config file saved in codeparrot-ds/checkpoint-5000/tokenizer_config.json\n",
            "Special tokens file saved in codeparrot-ds/checkpoint-5000/special_tokens_map.json\n",
            "added tokens file saved in codeparrot-ds/checkpoint-5000/added_tokens.json\n",
            "***** Running Evaluation *****\n",
            "  Num examples = 3384\n",
            "  Batch size = 4\n",
            "Saving model checkpoint to codeparrot-ds/checkpoint-10000\n",
            "Configuration saved in codeparrot-ds/checkpoint-10000/config.json\n",
            "Configuration saved in codeparrot-ds/checkpoint-10000/generation_config.json\n",
            "Model weights saved in codeparrot-ds/checkpoint-10000/pytorch_model.bin\n",
            "tokenizer config file saved in codeparrot-ds/checkpoint-10000/tokenizer_config.json\n",
            "Special tokens file saved in codeparrot-ds/checkpoint-10000/special_tokens_map.json\n",
            "added tokens file saved in codeparrot-ds/checkpoint-10000/added_tokens.json\n",
            "***** Running Evaluation *****\n",
            "  Num examples = 3384\n",
            "  Batch size = 4\n",
            "Saving model checkpoint to codeparrot-ds/checkpoint-15000\n",
            "Configuration saved in codeparrot-ds/checkpoint-15000/config.json\n",
            "Configuration saved in codeparrot-ds/checkpoint-15000/generation_config.json\n",
            "Model weights saved in codeparrot-ds/checkpoint-15000/pytorch_model.bin\n",
            "tokenizer config file saved in codeparrot-ds/checkpoint-15000/tokenizer_config.json\n",
            "Special tokens file saved in codeparrot-ds/checkpoint-15000/special_tokens_map.json\n",
            "added tokens file saved in codeparrot-ds/checkpoint-15000/added_tokens.json\n",
            "\n",
            "\n",
            "Training completed. Do not forget to share your model on huggingface.co/models =)\n",
            "\n",
            "\n",
            "Saving model checkpoint to codeparrot-ds\n",
            "Configuration saved in codeparrot-ds/config.json\n",
            "Configuration saved in codeparrot-ds/generation_config.json\n",
            "Model weights saved in codeparrot-ds/pytorch_model.bin\n",
            "tokenizer config file saved in codeparrot-ds/tokenizer_config.json\n",
            "Special tokens file saved in codeparrot-ds/special_tokens_map.json\n",
            "added tokens file saved in codeparrot-ds/added_tokens.json\n"
          ]
        }
      ],
      "source": [
        "import os\n",
        "\n",
        "trainer.train()\n",
        "trainer.save_model()"
      ]
    },
    {
      "cell_type": "code",
      "execution_count": 16,
      "metadata": {
        "colab": {
          "base_uri": "https://localhost:8080/"
        },
        "id": "R46wOOyCXgi8",
        "outputId": "2416d05d-60de-4461-dbad-8f4a2fa3fd95"
      },
      "outputs": [
        {
          "output_type": "stream",
          "name": "stderr",
          "text": [
            "loading configuration file codeparrot-ds/config.json\n",
            "Model config GPT2Config {\n",
            "  \"_name_or_path\": \"gpt2\",\n",
            "  \"activation_function\": \"gelu_new\",\n",
            "  \"architectures\": [\n",
            "    \"GPT2LMHeadModel\"\n",
            "  ],\n",
            "  \"attn_pdrop\": 0.1,\n",
            "  \"bos_token_id\": 50256,\n",
            "  \"embd_pdrop\": 0.1,\n",
            "  \"eos_token_id\": 50256,\n",
            "  \"initializer_range\": 0.02,\n",
            "  \"layer_norm_epsilon\": 1e-05,\n",
            "  \"model_type\": \"gpt2\",\n",
            "  \"n_ctx\": 1024,\n",
            "  \"n_embd\": 768,\n",
            "  \"n_head\": 12,\n",
            "  \"n_inner\": null,\n",
            "  \"n_layer\": 12,\n",
            "  \"n_positions\": 1024,\n",
            "  \"pad_token_id\": 50259,\n",
            "  \"reorder_and_upcast_attn\": false,\n",
            "  \"resid_pdrop\": 0.1,\n",
            "  \"scale_attn_by_inverse_layer_idx\": false,\n",
            "  \"scale_attn_weights\": true,\n",
            "  \"summary_activation\": null,\n",
            "  \"summary_first_dropout\": 0.1,\n",
            "  \"summary_proj_to_labels\": true,\n",
            "  \"summary_type\": \"cls_index\",\n",
            "  \"summary_use_proj\": true,\n",
            "  \"task_specific_params\": {\n",
            "    \"text-generation\": {\n",
            "      \"do_sample\": true,\n",
            "      \"max_length\": 50\n",
            "    }\n",
            "  },\n",
            "  \"torch_dtype\": \"float32\",\n",
            "  \"transformers_version\": \"4.26.0\",\n",
            "  \"use_cache\": true,\n",
            "  \"vocab_size\": 50260\n",
            "}\n",
            "\n",
            "loading weights file codeparrot-ds/pytorch_model.bin\n",
            "Generate config GenerationConfig {\n",
            "  \"bos_token_id\": 50256,\n",
            "  \"eos_token_id\": 50256,\n",
            "  \"pad_token_id\": 50259,\n",
            "  \"transformers_version\": \"4.26.0\"\n",
            "}\n",
            "\n",
            "All model checkpoint weights were used when initializing GPT2LMHeadModel.\n",
            "\n",
            "All the weights of GPT2LMHeadModel were initialized from the model checkpoint at codeparrot-ds.\n",
            "If your task is similar to the task the model of the checkpoint was trained on, you can already use GPT2LMHeadModel for predictions without further training.\n",
            "loading configuration file codeparrot-ds/generation_config.json\n",
            "Generate config GenerationConfig {\n",
            "  \"_from_model_config\": true,\n",
            "  \"bos_token_id\": 50256,\n",
            "  \"eos_token_id\": 50256,\n",
            "  \"pad_token_id\": 50259,\n",
            "  \"transformers_version\": \"4.26.0\"\n",
            "}\n",
            "\n"
          ]
        }
      ],
      "source": [
        "# Load the model\n",
        "saved_model_dir = 'codeparrot-ds'\n",
        "\n",
        "loaded_model = GPT2LMHeadModel.from_pretrained(saved_model_dir)"
      ]
    },
    {
      "cell_type": "code",
      "execution_count": 35,
      "metadata": {
        "colab": {
          "base_uri": "https://localhost:8080/"
        },
        "id": "AowLWjZJZDut",
        "outputId": "255d5f90-e325-44e5-9a1c-6ab9997596cd"
      },
      "outputs": [
        {
          "output_type": "stream",
          "name": "stdout",
          "text": [
            "tensor([[50257,  2437,   284, 14667,   257,  1125,  4188,  4884,   284,   281,\n",
            "         11602,   287,   616,  1597,   656,   616,  1597,  1848,    30, 50258]])\n"
          ]
        }
      ],
      "source": [
        "test_input = \"{} {} {}\".format(\n",
        "    q_token, \n",
        "    'How to deposit a cheque issued to an associate in my business into my business account?',\n",
        "    a_token\n",
        "    )\n",
        "encoded_input = tokenizer.encode(test_input, return_tensors='pt')\n",
        "print(encoded_input)"
      ]
    },
    {
      "cell_type": "code",
      "execution_count": 36,
      "metadata": {
        "colab": {
          "base_uri": "https://localhost:8080/"
        },
        "id": "R2InCfkYZwxO",
        "outputId": "05d8745d-347e-4370-d816-44096d6c98ec"
      },
      "outputs": [
        {
          "output_type": "stream",
          "name": "stderr",
          "text": [
            "Generate config GenerationConfig {\n",
            "  \"bos_token_id\": 50256,\n",
            "  \"eos_token_id\": 50256,\n",
            "  \"pad_token_id\": 50259,\n",
            "  \"transformers_version\": \"4.26.0\"\n",
            "}\n",
            "\n"
          ]
        },
        {
          "output_type": "stream",
          "name": "stdout",
          "text": [
            "<|question|> How to deposit a cheque issued to an associate in my business into my business account? <|answer|> I'm not sure what you're asking for a business, but I'm not sure what you're asking for a business.  I'm not sure what you're asking for a business, but I'd suggest you do, and you're asking about the LLC, and you're asking for a business.  You can't do this, but you can't do this.  You can't do this, and you're asking for a business, and you can't get a lawyer.  You can't do this.  You can't do this.  You can't get a lawyer.  You can't get a lawyer, and you can't get a lawyer, and you can't get a lawyer.  You can't get a lawyer.  You can't get a lawyer, and you can't get a lawyer.  You can't get a lawyer, and you can't get a lawyer, and you can't get a lawyer and get a lawyer.  You can't get a lawyer.  You can't get a lawyer, but you can't get a lawyer, and you can't get a lawyer, and you can't get a lawyer.  You can't get a lawyer and get a lawyer.  You can't get a lawyer.  You can't get a lawyer.  You can't get a lawyer, but you can't get a lawyer.  You can't get a lawyer.  You can't get a lawyer.  You can't get a lawyer.  You can't get a lawyer.  You can't get a lawyer and get a lawyer and get a lawyer.  You can't get a lawyer and get a lawyer and you can't get a lawyer.  You can't get a lawyer.  You can't get a lawyer, but you can't get a lawyer.  You can't get a lawyer.  You can't get a lawyer, but you can't get a lawyer.  You can't do it.  You can't get a lawyer and get a lawyer.  You can't get a lawyer and get a lawyer and get a lawyer.  You can't get a lawyer.  You can't get a lawyer.  You can't get a lawyer.  You can't get a lawyer.  You can't get a lawyer and get a lawyer and get a lawyer and lawyer and you can't get a lawyer.  You can't get a lawyer, but you can't get a lawyer, but you can't get a lawyer.  You can't get a lawyer.  You can't do this.  You can't get a lawyer.  You can't get a lawyer.  You can't get a lawyer and get a lawyer.  You can't do this out and get a lawyer.  You can't get a lawyer and get a lawyer.  You can't get a lawyer.  You can't get a lawyer.   You can't get a lawyer and get a lawyer.  You can't get a lawyer.    You can't get a lawyer.  You can't get a lawyer and get a lawyer and get a lawyer.  You can't get a lawyer.  You can't get a lawyer.   You can't get a lawyer.  You can't do this.   You can't get a lawyer and get a lawyer.    You can't get a lawyer.  You can't get a lawyer.  You can't get a lawyer.  You can't get a lawyer and get a lawyer.  You can't get a lawyer.  You can't get a lawyer and get a lawyer.  You can't get a lawyer and get a lawyer.   You can't get a lawyer.   You can't get a lawyer and get a lawyer and get a lawyer and get a lawyer.  You can't get a lawyer.   You can't get a lawyer.  You can't get a lawyer and get a lawyer and get a lawyer and get a lawyer.    You can't get a lawyer.  You can't get a lawyer.   You can't get a lawyer.             You can't get a lawyer.          You can't do this lawyer.    You can't do this out of the lawyer.         You can't do this with a lawyer.      You can help.   You can't get a lawyer.   You can't get a lawyer.     You can help with a lawyer.  You can't get a lawyer, and get a lawyer.   a lawyer.          be able to help with a lawyer.        can't help.     \n"
          ]
        }
      ],
      "source": [
        "result = loaded_model.generate(encoded_input, top_k=1, top_p=1, max_length=1024)\n",
        "decoded_result = tokenizer.decode(result[0], skip_special_tokens=True)\n",
        "print(decoded_result)"
      ]
    },
    {
      "cell_type": "code",
      "execution_count": 18,
      "metadata": {
        "id": "i8ozMMRJa3Ku"
      },
      "outputs": [],
      "source": []
    }
  ],
  "metadata": {
    "accelerator": "GPU",
    "colab": {
      "machine_shape": "hm",
      "provenance": []
    },
    "gpuClass": "premium",
    "kernelspec": {
      "display_name": "Python 3",
      "name": "python3"
    },
    "language_info": {
      "name": "python"
    },
    "widgets": {
      "application/vnd.jupyter.widget-state+json": {
        "c30d200de1d34624971aa55045520dd7": {
          "model_module": "@jupyter-widgets/controls",
          "model_name": "HBoxModel",
          "model_module_version": "1.5.0",
          "state": {
            "_dom_classes": [],
            "_model_module": "@jupyter-widgets/controls",
            "_model_module_version": "1.5.0",
            "_model_name": "HBoxModel",
            "_view_count": null,
            "_view_module": "@jupyter-widgets/controls",
            "_view_module_version": "1.5.0",
            "_view_name": "HBoxView",
            "box_style": "",
            "children": [
              "IPY_MODEL_dde91495d4764b858ca1f4a416d96592",
              "IPY_MODEL_17c99666e4bd450981f9d85155387a8d",
              "IPY_MODEL_8ca7a70c38c54821b3cccefe5ccbaf96"
            ],
            "layout": "IPY_MODEL_458e37211dae453cbee4b2ec5db15615"
          }
        },
        "dde91495d4764b858ca1f4a416d96592": {
          "model_module": "@jupyter-widgets/controls",
          "model_name": "HTMLModel",
          "model_module_version": "1.5.0",
          "state": {
            "_dom_classes": [],
            "_model_module": "@jupyter-widgets/controls",
            "_model_module_version": "1.5.0",
            "_model_name": "HTMLModel",
            "_view_count": null,
            "_view_module": "@jupyter-widgets/controls",
            "_view_module_version": "1.5.0",
            "_view_name": "HTMLView",
            "description": "",
            "description_tooltip": null,
            "layout": "IPY_MODEL_718f486fd4764766be9d8a67ee8f076d",
            "placeholder": "​",
            "style": "IPY_MODEL_d06fccc72e2a4e5ca01f218beeeab2da",
            "value": "100%"
          }
        },
        "17c99666e4bd450981f9d85155387a8d": {
          "model_module": "@jupyter-widgets/controls",
          "model_name": "FloatProgressModel",
          "model_module_version": "1.5.0",
          "state": {
            "_dom_classes": [],
            "_model_module": "@jupyter-widgets/controls",
            "_model_module_version": "1.5.0",
            "_model_name": "FloatProgressModel",
            "_view_count": null,
            "_view_module": "@jupyter-widgets/controls",
            "_view_module_version": "1.5.0",
            "_view_name": "ProgressView",
            "bar_style": "success",
            "description": "",
            "description_tooltip": null,
            "layout": "IPY_MODEL_87848fa1fc334c8cb09a50809c93524a",
            "max": 14,
            "min": 0,
            "orientation": "horizontal",
            "style": "IPY_MODEL_a8a1342ce83344509ec752875e0ce320",
            "value": 14
          }
        },
        "8ca7a70c38c54821b3cccefe5ccbaf96": {
          "model_module": "@jupyter-widgets/controls",
          "model_name": "HTMLModel",
          "model_module_version": "1.5.0",
          "state": {
            "_dom_classes": [],
            "_model_module": "@jupyter-widgets/controls",
            "_model_module_version": "1.5.0",
            "_model_name": "HTMLModel",
            "_view_count": null,
            "_view_module": "@jupyter-widgets/controls",
            "_view_module_version": "1.5.0",
            "_view_name": "HTMLView",
            "description": "",
            "description_tooltip": null,
            "layout": "IPY_MODEL_e9c10ce1fa454aca86f2ef86e473098b",
            "placeholder": "​",
            "style": "IPY_MODEL_0cdf0d31f42a4477b0a87061d45dc874",
            "value": " 14/14 [00:19&lt;00:00,  1.24s/ba]"
          }
        },
        "458e37211dae453cbee4b2ec5db15615": {
          "model_module": "@jupyter-widgets/base",
          "model_name": "LayoutModel",
          "model_module_version": "1.2.0",
          "state": {
            "_model_module": "@jupyter-widgets/base",
            "_model_module_version": "1.2.0",
            "_model_name": "LayoutModel",
            "_view_count": null,
            "_view_module": "@jupyter-widgets/base",
            "_view_module_version": "1.2.0",
            "_view_name": "LayoutView",
            "align_content": null,
            "align_items": null,
            "align_self": null,
            "border": null,
            "bottom": null,
            "display": null,
            "flex": null,
            "flex_flow": null,
            "grid_area": null,
            "grid_auto_columns": null,
            "grid_auto_flow": null,
            "grid_auto_rows": null,
            "grid_column": null,
            "grid_gap": null,
            "grid_row": null,
            "grid_template_areas": null,
            "grid_template_columns": null,
            "grid_template_rows": null,
            "height": null,
            "justify_content": null,
            "justify_items": null,
            "left": null,
            "margin": null,
            "max_height": null,
            "max_width": null,
            "min_height": null,
            "min_width": null,
            "object_fit": null,
            "object_position": null,
            "order": null,
            "overflow": null,
            "overflow_x": null,
            "overflow_y": null,
            "padding": null,
            "right": null,
            "top": null,
            "visibility": null,
            "width": null
          }
        },
        "718f486fd4764766be9d8a67ee8f076d": {
          "model_module": "@jupyter-widgets/base",
          "model_name": "LayoutModel",
          "model_module_version": "1.2.0",
          "state": {
            "_model_module": "@jupyter-widgets/base",
            "_model_module_version": "1.2.0",
            "_model_name": "LayoutModel",
            "_view_count": null,
            "_view_module": "@jupyter-widgets/base",
            "_view_module_version": "1.2.0",
            "_view_name": "LayoutView",
            "align_content": null,
            "align_items": null,
            "align_self": null,
            "border": null,
            "bottom": null,
            "display": null,
            "flex": null,
            "flex_flow": null,
            "grid_area": null,
            "grid_auto_columns": null,
            "grid_auto_flow": null,
            "grid_auto_rows": null,
            "grid_column": null,
            "grid_gap": null,
            "grid_row": null,
            "grid_template_areas": null,
            "grid_template_columns": null,
            "grid_template_rows": null,
            "height": null,
            "justify_content": null,
            "justify_items": null,
            "left": null,
            "margin": null,
            "max_height": null,
            "max_width": null,
            "min_height": null,
            "min_width": null,
            "object_fit": null,
            "object_position": null,
            "order": null,
            "overflow": null,
            "overflow_x": null,
            "overflow_y": null,
            "padding": null,
            "right": null,
            "top": null,
            "visibility": null,
            "width": null
          }
        },
        "d06fccc72e2a4e5ca01f218beeeab2da": {
          "model_module": "@jupyter-widgets/controls",
          "model_name": "DescriptionStyleModel",
          "model_module_version": "1.5.0",
          "state": {
            "_model_module": "@jupyter-widgets/controls",
            "_model_module_version": "1.5.0",
            "_model_name": "DescriptionStyleModel",
            "_view_count": null,
            "_view_module": "@jupyter-widgets/base",
            "_view_module_version": "1.2.0",
            "_view_name": "StyleView",
            "description_width": ""
          }
        },
        "87848fa1fc334c8cb09a50809c93524a": {
          "model_module": "@jupyter-widgets/base",
          "model_name": "LayoutModel",
          "model_module_version": "1.2.0",
          "state": {
            "_model_module": "@jupyter-widgets/base",
            "_model_module_version": "1.2.0",
            "_model_name": "LayoutModel",
            "_view_count": null,
            "_view_module": "@jupyter-widgets/base",
            "_view_module_version": "1.2.0",
            "_view_name": "LayoutView",
            "align_content": null,
            "align_items": null,
            "align_self": null,
            "border": null,
            "bottom": null,
            "display": null,
            "flex": null,
            "flex_flow": null,
            "grid_area": null,
            "grid_auto_columns": null,
            "grid_auto_flow": null,
            "grid_auto_rows": null,
            "grid_column": null,
            "grid_gap": null,
            "grid_row": null,
            "grid_template_areas": null,
            "grid_template_columns": null,
            "grid_template_rows": null,
            "height": null,
            "justify_content": null,
            "justify_items": null,
            "left": null,
            "margin": null,
            "max_height": null,
            "max_width": null,
            "min_height": null,
            "min_width": null,
            "object_fit": null,
            "object_position": null,
            "order": null,
            "overflow": null,
            "overflow_x": null,
            "overflow_y": null,
            "padding": null,
            "right": null,
            "top": null,
            "visibility": null,
            "width": null
          }
        },
        "a8a1342ce83344509ec752875e0ce320": {
          "model_module": "@jupyter-widgets/controls",
          "model_name": "ProgressStyleModel",
          "model_module_version": "1.5.0",
          "state": {
            "_model_module": "@jupyter-widgets/controls",
            "_model_module_version": "1.5.0",
            "_model_name": "ProgressStyleModel",
            "_view_count": null,
            "_view_module": "@jupyter-widgets/base",
            "_view_module_version": "1.2.0",
            "_view_name": "StyleView",
            "bar_color": null,
            "description_width": ""
          }
        },
        "e9c10ce1fa454aca86f2ef86e473098b": {
          "model_module": "@jupyter-widgets/base",
          "model_name": "LayoutModel",
          "model_module_version": "1.2.0",
          "state": {
            "_model_module": "@jupyter-widgets/base",
            "_model_module_version": "1.2.0",
            "_model_name": "LayoutModel",
            "_view_count": null,
            "_view_module": "@jupyter-widgets/base",
            "_view_module_version": "1.2.0",
            "_view_name": "LayoutView",
            "align_content": null,
            "align_items": null,
            "align_self": null,
            "border": null,
            "bottom": null,
            "display": null,
            "flex": null,
            "flex_flow": null,
            "grid_area": null,
            "grid_auto_columns": null,
            "grid_auto_flow": null,
            "grid_auto_rows": null,
            "grid_column": null,
            "grid_gap": null,
            "grid_row": null,
            "grid_template_areas": null,
            "grid_template_columns": null,
            "grid_template_rows": null,
            "height": null,
            "justify_content": null,
            "justify_items": null,
            "left": null,
            "margin": null,
            "max_height": null,
            "max_width": null,
            "min_height": null,
            "min_width": null,
            "object_fit": null,
            "object_position": null,
            "order": null,
            "overflow": null,
            "overflow_x": null,
            "overflow_y": null,
            "padding": null,
            "right": null,
            "top": null,
            "visibility": null,
            "width": null
          }
        },
        "0cdf0d31f42a4477b0a87061d45dc874": {
          "model_module": "@jupyter-widgets/controls",
          "model_name": "DescriptionStyleModel",
          "model_module_version": "1.5.0",
          "state": {
            "_model_module": "@jupyter-widgets/controls",
            "_model_module_version": "1.5.0",
            "_model_name": "DescriptionStyleModel",
            "_view_count": null,
            "_view_module": "@jupyter-widgets/base",
            "_view_module_version": "1.2.0",
            "_view_name": "StyleView",
            "description_width": ""
          }
        },
        "d0aeda88f7a441caa3cdc96d76ba7304": {
          "model_module": "@jupyter-widgets/controls",
          "model_name": "HBoxModel",
          "model_module_version": "1.5.0",
          "state": {
            "_dom_classes": [],
            "_model_module": "@jupyter-widgets/controls",
            "_model_module_version": "1.5.0",
            "_model_name": "HBoxModel",
            "_view_count": null,
            "_view_module": "@jupyter-widgets/controls",
            "_view_module_version": "1.5.0",
            "_view_name": "HBoxView",
            "box_style": "",
            "children": [
              "IPY_MODEL_de5a4c45e59b424c8f4cfa1c28cd579f",
              "IPY_MODEL_f4b339b4559e41a2bd8fe21cf3091796",
              "IPY_MODEL_b64f0f4f771c4a059ca9ce3705b3fdca"
            ],
            "layout": "IPY_MODEL_c00207f9680747839601d38c199f1297"
          }
        },
        "de5a4c45e59b424c8f4cfa1c28cd579f": {
          "model_module": "@jupyter-widgets/controls",
          "model_name": "HTMLModel",
          "model_module_version": "1.5.0",
          "state": {
            "_dom_classes": [],
            "_model_module": "@jupyter-widgets/controls",
            "_model_module_version": "1.5.0",
            "_model_name": "HTMLModel",
            "_view_count": null,
            "_view_module": "@jupyter-widgets/controls",
            "_view_module_version": "1.5.0",
            "_view_name": "HTMLView",
            "description": "",
            "description_tooltip": null,
            "layout": "IPY_MODEL_200c8de1ab9940c7915a7a3973774444",
            "placeholder": "​",
            "style": "IPY_MODEL_a4f96caa5cc546889bdd6e0a4673e78d",
            "value": "100%"
          }
        },
        "f4b339b4559e41a2bd8fe21cf3091796": {
          "model_module": "@jupyter-widgets/controls",
          "model_name": "FloatProgressModel",
          "model_module_version": "1.5.0",
          "state": {
            "_dom_classes": [],
            "_model_module": "@jupyter-widgets/controls",
            "_model_module_version": "1.5.0",
            "_model_name": "FloatProgressModel",
            "_view_count": null,
            "_view_module": "@jupyter-widgets/controls",
            "_view_module_version": "1.5.0",
            "_view_name": "ProgressView",
            "bar_style": "success",
            "description": "",
            "description_tooltip": null,
            "layout": "IPY_MODEL_cb8a2dad70864014bfa07564a963e40f",
            "max": 4,
            "min": 0,
            "orientation": "horizontal",
            "style": "IPY_MODEL_ea84379366174a43936dfbccd69606c1",
            "value": 4
          }
        },
        "b64f0f4f771c4a059ca9ce3705b3fdca": {
          "model_module": "@jupyter-widgets/controls",
          "model_name": "HTMLModel",
          "model_module_version": "1.5.0",
          "state": {
            "_dom_classes": [],
            "_model_module": "@jupyter-widgets/controls",
            "_model_module_version": "1.5.0",
            "_model_name": "HTMLModel",
            "_view_count": null,
            "_view_module": "@jupyter-widgets/controls",
            "_view_module_version": "1.5.0",
            "_view_name": "HTMLView",
            "description": "",
            "description_tooltip": null,
            "layout": "IPY_MODEL_4c73218854134cd888d5f509c4fc07ec",
            "placeholder": "​",
            "style": "IPY_MODEL_c32c3015133a4417a1b2254e101190b3",
            "value": " 4/4 [00:04&lt;00:00,  1.10s/ba]"
          }
        },
        "c00207f9680747839601d38c199f1297": {
          "model_module": "@jupyter-widgets/base",
          "model_name": "LayoutModel",
          "model_module_version": "1.2.0",
          "state": {
            "_model_module": "@jupyter-widgets/base",
            "_model_module_version": "1.2.0",
            "_model_name": "LayoutModel",
            "_view_count": null,
            "_view_module": "@jupyter-widgets/base",
            "_view_module_version": "1.2.0",
            "_view_name": "LayoutView",
            "align_content": null,
            "align_items": null,
            "align_self": null,
            "border": null,
            "bottom": null,
            "display": null,
            "flex": null,
            "flex_flow": null,
            "grid_area": null,
            "grid_auto_columns": null,
            "grid_auto_flow": null,
            "grid_auto_rows": null,
            "grid_column": null,
            "grid_gap": null,
            "grid_row": null,
            "grid_template_areas": null,
            "grid_template_columns": null,
            "grid_template_rows": null,
            "height": null,
            "justify_content": null,
            "justify_items": null,
            "left": null,
            "margin": null,
            "max_height": null,
            "max_width": null,
            "min_height": null,
            "min_width": null,
            "object_fit": null,
            "object_position": null,
            "order": null,
            "overflow": null,
            "overflow_x": null,
            "overflow_y": null,
            "padding": null,
            "right": null,
            "top": null,
            "visibility": null,
            "width": null
          }
        },
        "200c8de1ab9940c7915a7a3973774444": {
          "model_module": "@jupyter-widgets/base",
          "model_name": "LayoutModel",
          "model_module_version": "1.2.0",
          "state": {
            "_model_module": "@jupyter-widgets/base",
            "_model_module_version": "1.2.0",
            "_model_name": "LayoutModel",
            "_view_count": null,
            "_view_module": "@jupyter-widgets/base",
            "_view_module_version": "1.2.0",
            "_view_name": "LayoutView",
            "align_content": null,
            "align_items": null,
            "align_self": null,
            "border": null,
            "bottom": null,
            "display": null,
            "flex": null,
            "flex_flow": null,
            "grid_area": null,
            "grid_auto_columns": null,
            "grid_auto_flow": null,
            "grid_auto_rows": null,
            "grid_column": null,
            "grid_gap": null,
            "grid_row": null,
            "grid_template_areas": null,
            "grid_template_columns": null,
            "grid_template_rows": null,
            "height": null,
            "justify_content": null,
            "justify_items": null,
            "left": null,
            "margin": null,
            "max_height": null,
            "max_width": null,
            "min_height": null,
            "min_width": null,
            "object_fit": null,
            "object_position": null,
            "order": null,
            "overflow": null,
            "overflow_x": null,
            "overflow_y": null,
            "padding": null,
            "right": null,
            "top": null,
            "visibility": null,
            "width": null
          }
        },
        "a4f96caa5cc546889bdd6e0a4673e78d": {
          "model_module": "@jupyter-widgets/controls",
          "model_name": "DescriptionStyleModel",
          "model_module_version": "1.5.0",
          "state": {
            "_model_module": "@jupyter-widgets/controls",
            "_model_module_version": "1.5.0",
            "_model_name": "DescriptionStyleModel",
            "_view_count": null,
            "_view_module": "@jupyter-widgets/base",
            "_view_module_version": "1.2.0",
            "_view_name": "StyleView",
            "description_width": ""
          }
        },
        "cb8a2dad70864014bfa07564a963e40f": {
          "model_module": "@jupyter-widgets/base",
          "model_name": "LayoutModel",
          "model_module_version": "1.2.0",
          "state": {
            "_model_module": "@jupyter-widgets/base",
            "_model_module_version": "1.2.0",
            "_model_name": "LayoutModel",
            "_view_count": null,
            "_view_module": "@jupyter-widgets/base",
            "_view_module_version": "1.2.0",
            "_view_name": "LayoutView",
            "align_content": null,
            "align_items": null,
            "align_self": null,
            "border": null,
            "bottom": null,
            "display": null,
            "flex": null,
            "flex_flow": null,
            "grid_area": null,
            "grid_auto_columns": null,
            "grid_auto_flow": null,
            "grid_auto_rows": null,
            "grid_column": null,
            "grid_gap": null,
            "grid_row": null,
            "grid_template_areas": null,
            "grid_template_columns": null,
            "grid_template_rows": null,
            "height": null,
            "justify_content": null,
            "justify_items": null,
            "left": null,
            "margin": null,
            "max_height": null,
            "max_width": null,
            "min_height": null,
            "min_width": null,
            "object_fit": null,
            "object_position": null,
            "order": null,
            "overflow": null,
            "overflow_x": null,
            "overflow_y": null,
            "padding": null,
            "right": null,
            "top": null,
            "visibility": null,
            "width": null
          }
        },
        "ea84379366174a43936dfbccd69606c1": {
          "model_module": "@jupyter-widgets/controls",
          "model_name": "ProgressStyleModel",
          "model_module_version": "1.5.0",
          "state": {
            "_model_module": "@jupyter-widgets/controls",
            "_model_module_version": "1.5.0",
            "_model_name": "ProgressStyleModel",
            "_view_count": null,
            "_view_module": "@jupyter-widgets/base",
            "_view_module_version": "1.2.0",
            "_view_name": "StyleView",
            "bar_color": null,
            "description_width": ""
          }
        },
        "4c73218854134cd888d5f509c4fc07ec": {
          "model_module": "@jupyter-widgets/base",
          "model_name": "LayoutModel",
          "model_module_version": "1.2.0",
          "state": {
            "_model_module": "@jupyter-widgets/base",
            "_model_module_version": "1.2.0",
            "_model_name": "LayoutModel",
            "_view_count": null,
            "_view_module": "@jupyter-widgets/base",
            "_view_module_version": "1.2.0",
            "_view_name": "LayoutView",
            "align_content": null,
            "align_items": null,
            "align_self": null,
            "border": null,
            "bottom": null,
            "display": null,
            "flex": null,
            "flex_flow": null,
            "grid_area": null,
            "grid_auto_columns": null,
            "grid_auto_flow": null,
            "grid_auto_rows": null,
            "grid_column": null,
            "grid_gap": null,
            "grid_row": null,
            "grid_template_areas": null,
            "grid_template_columns": null,
            "grid_template_rows": null,
            "height": null,
            "justify_content": null,
            "justify_items": null,
            "left": null,
            "margin": null,
            "max_height": null,
            "max_width": null,
            "min_height": null,
            "min_width": null,
            "object_fit": null,
            "object_position": null,
            "order": null,
            "overflow": null,
            "overflow_x": null,
            "overflow_y": null,
            "padding": null,
            "right": null,
            "top": null,
            "visibility": null,
            "width": null
          }
        },
        "c32c3015133a4417a1b2254e101190b3": {
          "model_module": "@jupyter-widgets/controls",
          "model_name": "DescriptionStyleModel",
          "model_module_version": "1.5.0",
          "state": {
            "_model_module": "@jupyter-widgets/controls",
            "_model_module_version": "1.5.0",
            "_model_name": "DescriptionStyleModel",
            "_view_count": null,
            "_view_module": "@jupyter-widgets/base",
            "_view_module_version": "1.2.0",
            "_view_name": "StyleView",
            "description_width": ""
          }
        }
      }
    }
  },
  "nbformat": 4,
  "nbformat_minor": 0
}